{
  "cells": [
    {
      "cell_type": "markdown",
      "metadata": {
        "id": "MUP3zkC9o2T_"
      },
      "source": [
        "# PySpark\n",
        "\n",
        "![](https://luminousmen.com/media/spark-tips.jpg)\n",
        "\n",
        "PySpark is a Python API for Spark released by the Apache Spark community to support Python with Spark. Using PySpark, one can easily integrate and work with RDDs in Python programming language too. There are numerous features that make PySpark such an amazing framework when it comes to working with huge datasets. Whether it is to perform computations on large datasets or to just analyze them, Data Engineers are switching to this tool.\n",
        "\n",
        "### Key Features of PySpark\n",
        "\n",
        "##### 1. Real-time computations: \n",
        "  Because of the in-memory processing in the PySpark framework, it shows low latency.\n",
        "\n",
        "##### 2. Polyglot: \n",
        "  The PySpark framework is compatible with various languages such as Scala, Java, Python, and R, which makes it one of the most preferable frameworks for processing huge datasets.\n",
        "\n",
        "##### 3. Caching and disk persistence: \n",
        "  This framework provides powerful caching and great disk persistence.\n",
        "\n",
        "##### 4. Fast processing: \n",
        "  The PySpark framework is way faster than other traditional frameworks for Big Data processing.\n",
        "\n",
        "##### 5. Works well with RDDs: \n",
        "  Python programming language is dynamically typed, which helps when working with RDDs.\n"
      ]
    },
    {
      "cell_type": "code",
      "execution_count": null,
      "metadata": {
        "colab": {
          "base_uri": "https://localhost:8080/"
        },
        "id": "ulCRJ2Tko2UE",
        "outputId": "389b427e-d4e8-43f7-bf96-8c5b1d7ef7bf"
      },
      "outputs": [
        {
          "output_type": "stream",
          "name": "stdout",
          "text": [
            "Looking in indexes: https://pypi.org/simple, https://us-python.pkg.dev/colab-wheels/public/simple/\n",
            "Collecting pyspark\n",
            "  Downloading pyspark-3.3.0.tar.gz (281.3 MB)\n",
            "\u001b[K     |████████████████████████████████| 281.3 MB 46 kB/s \n",
            "\u001b[?25hCollecting py4j==0.10.9.5\n",
            "  Downloading py4j-0.10.9.5-py2.py3-none-any.whl (199 kB)\n",
            "\u001b[K     |████████████████████████████████| 199 kB 53.8 MB/s \n",
            "\u001b[?25hBuilding wheels for collected packages: pyspark\n",
            "  Building wheel for pyspark (setup.py) ... \u001b[?25l\u001b[?25hdone\n",
            "  Created wheel for pyspark: filename=pyspark-3.3.0-py2.py3-none-any.whl size=281764026 sha256=a145d9f12fb869136bb3c50ff4368930b9084375bee065d0831e8485a396f634\n",
            "  Stored in directory: /root/.cache/pip/wheels/7a/8e/1b/f73a52650d2e5f337708d9f6a1750d451a7349a867f928b885\n",
            "Successfully built pyspark\n",
            "Installing collected packages: py4j, pyspark\n",
            "Successfully installed py4j-0.10.9.5 pyspark-3.3.0\n"
          ]
        }
      ],
      "source": [
        "!pip install pyspark"
      ]
    },
    {
      "cell_type": "code",
      "execution_count": null,
      "metadata": {
        "id": "zh0V5W3qo2UF"
      },
      "outputs": [],
      "source": [
        "#Initializing PySpark\n",
        "from pyspark import SparkContext, SparkConf\n",
        "\n",
        "#Spark Config\n",
        "conf = SparkConf().setAppName(\"sample_app\")\n",
        "sc = SparkContext(conf=conf)"
      ]
    },
    {
      "cell_type": "markdown",
      "metadata": {
        "id": "u17zmkfVo2UG"
      },
      "source": [
        "# Supervised Learning\n",
        "\n",
        "![](https://www.livewireindia.com/blog/wp-content/uploads/2019/06/Supervised-ML-1.gif)\n",
        "\n",
        "Supervised learning is the machine learning task of learning a function that maps an input to an output based on example input-output pairs. It infers a function from labeled training data consisting of a set of training examples. In supervised learning, each example is a pair consisting of an input object (typically a vector) and a desired output value (also called the supervisory signal). A supervised learning algorithm analyzes the training data and produces an inferred function, which can be used for mapping new examples. An optimal scenario will allow for the algorithm to correctly determine the class labels for unseen instances. "
      ]
    },
    {
      "cell_type": "markdown",
      "metadata": {
        "id": "Ony3_l_ho2UG"
      },
      "source": [
        "## Classification\n",
        "\n",
        "![](https://data-flair.training/blogs/wp-content/uploads/sites/2/2020/05/Cats-Dogs-Classification-deep-learning.gif)\n",
        "\n",
        "Classification is a type of supervised learning. It specifies the class to which data elements belong to and is best used when the output has finite and discrete values. It predicts a class for an input variable as well.\n",
        "\n",
        "There are 2 types of Classification: \n",
        "\n",
        "1. Binomial\n",
        "2. Multi-Class\n",
        "\n",
        "### Classification: Use Cases\n",
        "\n",
        "Some of the key areas where classification cases are being used:\n",
        "\n",
        "1. To find whether an email received is a spam or ham\n",
        "2. To identify customer segments\n",
        "3. To find if a bank loan is granted\n",
        "4. To identify if a kid will pass or fail in an examination"
      ]
    },
    {
      "cell_type": "markdown",
      "metadata": {
        "id": "3YNEzf1wo2UH"
      },
      "source": [
        "`Execute the cell in the notebook to load the classes.`"
      ]
    },
    {
      "cell_type": "code",
      "execution_count": null,
      "metadata": {
        "colab": {
          "base_uri": "https://localhost:8080/"
        },
        "id": "TSByQ8dmqCiE",
        "outputId": "14728e98-7f3c-4d2a-a999-c6541f4f41f8"
      },
      "outputs": [
        {
          "output_type": "stream",
          "name": "stdout",
          "text": [
            "Mounted at /content/drive\n"
          ]
        }
      ],
      "source": [
        "#from google.colab import drive\n",
        "#drive.mount('/content/drive')"
      ]
    },
    {
      "cell_type": "code",
      "execution_count": null,
      "metadata": {
        "colab": {
          "base_uri": "https://localhost:8080/"
        },
        "id": "D4AJCn_IqBuB",
        "outputId": "91b60382-0796-4a83-aed8-71364bdc12ae"
      },
      "outputs": [
        {
          "output_type": "stream",
          "name": "stdout",
          "text": [
            "/content/drive/MyDrive/sparkML/Day3\n"
          ]
        }
      ],
      "source": [
        "#cd /content/drive/MyDrive/sparkML/Day3"
      ]
    },
    {
      "cell_type": "code",
      "execution_count": null,
      "metadata": {
        "id": "nfgVxz1vo2UI"
      },
      "outputs": [],
      "source": [
        "from pyspark.sql import SQLContext\n",
        "from pyspark.sql import DataFrameNaFunctions\n",
        "\n",
        "from pyspark.ml import Pipeline\n",
        "from pyspark.ml.classification import DecisionTreeClassifier\n",
        "\n",
        "from pyspark.ml.feature import Binarizer\n",
        "from pyspark.ml.feature import VectorAssembler, StringIndexer, VectorIndexer"
      ]
    },
    {
      "cell_type": "markdown",
      "metadata": {
        "id": "niL2MfoJo2UI"
      },
      "source": [
        "## Read Data"
      ]
    },
    {
      "cell_type": "code",
      "execution_count": null,
      "metadata": {
        "colab": {
          "base_uri": "https://localhost:8080/"
        },
        "id": "Djy_zqF3o2UJ",
        "outputId": "be31a420-9eff-4817-b910-a715355b28d9"
      },
      "outputs": [
        {
          "output_type": "stream",
          "name": "stderr",
          "text": [
            "/usr/local/lib/python3.7/dist-packages/pyspark/sql/context.py:114: FutureWarning: Deprecated in 3.0.0. Use SparkSession.builder.getOrCreate() instead.\n",
            "  FutureWarning,\n"
          ]
        }
      ],
      "source": [
        "sqlContext = SQLContext(sc)\n",
        "df = sqlContext.read.load('/content/daily_weather.csv', \n",
        "                          format='com.databricks.spark.csv', \n",
        "                          header='true',inferSchema='true')"
      ]
    },
    {
      "cell_type": "code",
      "source": [
        "df.show(10)"
      ],
      "metadata": {
        "colab": {
          "base_uri": "https://localhost:8080/"
        },
        "id": "YJNYS3v4M4SN",
        "outputId": "9c34f26c-8404-45e8-ca76-eb0a5db7ac0c"
      },
      "execution_count": null,
      "outputs": [
        {
          "output_type": "stream",
          "name": "stdout",
          "text": [
            "+-----------------+------------------+----------------------+------------------+----------------------+------------------+---------------------+-----------------+---------------------+---------------------+\n",
            "| air_pressure_9am|      air_temp_9am|avg_wind_direction_9am|avg_wind_speed_9am|max_wind_direction_9am|max_wind_speed_9am|rain_accumulation_9am|rain_duration_9am|relative_humidity_9am|relative_humidity_3pm|\n",
            "+-----------------+------------------+----------------------+------------------+----------------------+------------------+---------------------+-----------------+---------------------+---------------------+\n",
            "|918.0600000000087| 74.82200000000041|                 271.1| 2.080354199999768|    295.39999999999986| 2.863283199999908|                  0.0|              0.0|    42.42000000000046|   36.160000000000494|\n",
            "|917.3476881177097| 71.40384263106537|    101.93517935618371|2.4430092157340217|    140.47154847112498|3.5333236016106238|                  0.0|              0.0|   24.328697291802207|     19.4265967985621|\n",
            "|923.0400000000084|60.637999999998776|    51.000000000000036|17.067852199999727|      63.6999999999999|22.100967200000003|                  0.0|             20.0|    8.900000000000047|   14.460000000000045|\n",
            "|920.5027511759195| 70.13889486830053|    198.83213271746368| 4.337363056162703|    211.20334124325618| 5.190045360219378|                  0.0|              0.0|   12.189101868764444|   12.742547353761848|\n",
            "|921.1600000000036| 44.29400000000284|                 277.8|1.8566601999998955|    136.49999999999991| 2.863283199999954|    8.899999999998613|          14730.0|    92.41000000000044|    76.74000000000046|\n",
            "| 915.300000000006| 78.40400000000422|                 182.8|  9.93201359999979|    188.99999999999986|10.983375399999995|  0.02000000000043656|            170.0|   35.130000000000265|   33.930000000000256|\n",
            "|915.5988675132801| 70.04330431686239|    177.87540718659943|3.7455865377244795|    186.60669587586753| 4.589632428699432|                  0.0|              0.0|   10.657421657822635|   21.385656725200974|\n",
            "|918.0700000000023|51.710000000002346|                 242.4| 2.527742199999939|     271.5999999999999|3.6462121999999924|                  0.0|              0.0|    80.47000000000041|    74.92000000000041|\n",
            "| 920.080000000006| 80.58200000000384|                  40.7| 4.518618799999764|     62.99999999999986| 5.883152199999977|                  0.0|              0.0|    29.58000000000045|   24.030000000000427|\n",
            "|915.0100000000116|  47.4979999999998|    163.10000000000005| 4.943637399999545|    195.89999999999992| 6.576603599999951|                  0.0|              0.0|     88.6000000000012|     68.0500000000012|\n",
            "+-----------------+------------------+----------------------+------------------+----------------------+------------------+---------------------+-----------------+---------------------+---------------------+\n",
            "only showing top 10 rows\n",
            "\n"
          ]
        }
      ]
    },
    {
      "cell_type": "markdown",
      "metadata": {
        "id": "QHDWRHAQo2UJ"
      },
      "source": [
        "`Now, print the columns in DataFrame.`"
      ]
    },
    {
      "cell_type": "code",
      "execution_count": null,
      "metadata": {
        "colab": {
          "base_uri": "https://localhost:8080/"
        },
        "id": "81flLbJAo2UK",
        "outputId": "4308ee74-01b7-4259-d49e-6917669318d7"
      },
      "outputs": [
        {
          "output_type": "stream",
          "name": "stdout",
          "text": [
            "['number', 'air_pressure_9am', 'air_temp_9am', 'avg_wind_direction_9am', 'avg_wind_speed_9am', 'max_wind_direction_9am', 'max_wind_speed_9am', 'rain_accumulation_9am', 'rain_duration_9am', 'relative_humidity_9am', 'relative_humidity_3pm']\n"
          ]
        }
      ],
      "source": [
        "print(df.columns)"
      ]
    },
    {
      "cell_type": "markdown",
      "metadata": {
        "id": "Y1KuDUe6o2UK"
      },
      "source": [
        "`Execute the next cell, which defines the columns in the weather data we will use for the decision tree classifier.`"
      ]
    },
    {
      "cell_type": "code",
      "execution_count": null,
      "metadata": {
        "id": "sRwo8AtZo2UK"
      },
      "outputs": [],
      "source": [
        "featureColumns = ['air_pressure_9am','air_temp_9am','avg_wind_direction_9am','avg_wind_speed_9am',\n",
        "        'max_wind_direction_9am','max_wind_speed_9am','rain_accumulation_9am',\n",
        "        'rain_duration_9am']"
      ]
    },
    {
      "cell_type": "markdown",
      "metadata": {
        "id": "T_BLNwBzo2UL"
      },
      "source": [
        "## Data Cleaning\n",
        "\n",
        "1. Drop unused and missing data. We do not need the number column in our data, so let's remove it from the DataFrame.\n",
        "\n",
        "2. Next, let's remove all rows with missing data:"
      ]
    },
    {
      "cell_type": "code",
      "execution_count": null,
      "metadata": {
        "id": "9RTbGL1Io2UL"
      },
      "outputs": [],
      "source": [
        "df = df.drop('number')\n",
        "df = df.na.drop()"
      ]
    },
    {
      "cell_type": "markdown",
      "metadata": {
        "id": "GZPlufIgo2UL"
      },
      "source": [
        "`Now , Let us print shape of dataframe.`"
      ]
    },
    {
      "cell_type": "code",
      "execution_count": null,
      "metadata": {
        "colab": {
          "base_uri": "https://localhost:8080/"
        },
        "id": "vJ9P4b9Uo2UL",
        "outputId": "ed382b73-0330-4b17-a3c2-ce1e33480e82"
      },
      "outputs": [
        {
          "output_type": "stream",
          "name": "stdout",
          "text": [
            "1064 , 10\n"
          ]
        }
      ],
      "source": [
        "print(df.count(),\",\",len(df.columns))"
      ]
    },
    {
      "cell_type": "markdown",
      "metadata": {
        "id": "GK-57N-9o2UL"
      },
      "source": [
        "Create categorical variable. Let's create a categorical variable to denote if the humidity is not low. If the value is less than 25%, then we want the categorical value to be 0, otherwise the categorical value should be 1. We can create this categorical variable as a column in a DataFrame using Binarizer:\n",
        "\n",
        "The threshold argument specifies the threshold value for the variable, inputCol is the input column to read, and outputCol is the name of the new categorical column. The second line applies the Binarizer and creates a new DataFrame with the categorical column."
      ]
    },
    {
      "cell_type": "code",
      "execution_count": null,
      "metadata": {
        "id": "4gY2Cxlzo2UM"
      },
      "outputs": [],
      "source": [
        "binarizer = Binarizer(threshold=24.99999,\n",
        "                     inputCol = \"relative_humidity_3pm\",\n",
        "                     outputCol = \"label\")\n",
        "\n",
        "binarizedDF = binarizer.transform(df)"
      ]
    },
    {
      "cell_type": "markdown",
      "metadata": {
        "id": "ciVLs3hWo2UM"
      },
      "source": [
        "`We can look at the first four values in the new DataFrame. The first row's humidity value is greater than 25% and the label is 1. The other humidity values are less than 25% and have labels equal to 0.`"
      ]
    },
    {
      "cell_type": "code",
      "execution_count": null,
      "metadata": {
        "colab": {
          "base_uri": "https://localhost:8080/"
        },
        "id": "W1pWopzKo2UM",
        "outputId": "57c09e38-399b-4208-cd36-c908c9bade94"
      },
      "outputs": [
        {
          "output_type": "stream",
          "name": "stdout",
          "text": [
            "+---------------------+-----+\n",
            "|relative_humidity_3pm|label|\n",
            "+---------------------+-----+\n",
            "|   36.160000000000494|  1.0|\n",
            "|     19.4265967985621|  0.0|\n",
            "|   14.460000000000045|  0.0|\n",
            "|   12.742547353761848|  0.0|\n",
            "|    76.74000000000046|  1.0|\n",
            "+---------------------+-----+\n",
            "only showing top 5 rows\n",
            "\n"
          ]
        }
      ],
      "source": [
        "binarizedDF.select('relative_humidity_3pm','label').show(5)"
      ]
    },
    {
      "cell_type": "markdown",
      "metadata": {
        "id": "CVyhmrHko2UM"
      },
      "source": [
        "`We can also look at data using Pandas Interface.`"
      ]
    },
    {
      "cell_type": "code",
      "execution_count": null,
      "metadata": {
        "colab": {
          "base_uri": "https://localhost:8080/",
          "height": 176
        },
        "id": "R_rm-Xlao2UM",
        "outputId": "f482b9aa-fbe2-47cf-b552-74750ca0af71"
      },
      "outputs": [
        {
          "output_type": "execute_result",
          "data": {
            "text/plain": [
              "   air_pressure_9am  air_temp_9am  avg_wind_direction_9am  avg_wind_speed_9am  \\\n",
              "0        918.060000     74.822000              271.100000            2.080354   \n",
              "1        917.347688     71.403843              101.935179            2.443009   \n",
              "\n",
              "   max_wind_direction_9am  max_wind_speed_9am  rain_accumulation_9am  \\\n",
              "0              295.400000            2.863283                    0.0   \n",
              "1              140.471548            3.533324                    0.0   \n",
              "\n",
              "   rain_duration_9am  relative_humidity_9am  relative_humidity_3pm  label  \n",
              "0                0.0              42.420000              36.160000    1.0  \n",
              "1                0.0              24.328697              19.426597    0.0  "
            ],
            "text/html": [
              "\n",
              "  <div id=\"df-590838ea-09a5-4d86-b9c4-72c79526af0f\">\n",
              "    <div class=\"colab-df-container\">\n",
              "      <div>\n",
              "<style scoped>\n",
              "    .dataframe tbody tr th:only-of-type {\n",
              "        vertical-align: middle;\n",
              "    }\n",
              "\n",
              "    .dataframe tbody tr th {\n",
              "        vertical-align: top;\n",
              "    }\n",
              "\n",
              "    .dataframe thead th {\n",
              "        text-align: right;\n",
              "    }\n",
              "</style>\n",
              "<table border=\"1\" class=\"dataframe\">\n",
              "  <thead>\n",
              "    <tr style=\"text-align: right;\">\n",
              "      <th></th>\n",
              "      <th>air_pressure_9am</th>\n",
              "      <th>air_temp_9am</th>\n",
              "      <th>avg_wind_direction_9am</th>\n",
              "      <th>avg_wind_speed_9am</th>\n",
              "      <th>max_wind_direction_9am</th>\n",
              "      <th>max_wind_speed_9am</th>\n",
              "      <th>rain_accumulation_9am</th>\n",
              "      <th>rain_duration_9am</th>\n",
              "      <th>relative_humidity_9am</th>\n",
              "      <th>relative_humidity_3pm</th>\n",
              "      <th>label</th>\n",
              "    </tr>\n",
              "  </thead>\n",
              "  <tbody>\n",
              "    <tr>\n",
              "      <th>0</th>\n",
              "      <td>918.060000</td>\n",
              "      <td>74.822000</td>\n",
              "      <td>271.100000</td>\n",
              "      <td>2.080354</td>\n",
              "      <td>295.400000</td>\n",
              "      <td>2.863283</td>\n",
              "      <td>0.0</td>\n",
              "      <td>0.0</td>\n",
              "      <td>42.420000</td>\n",
              "      <td>36.160000</td>\n",
              "      <td>1.0</td>\n",
              "    </tr>\n",
              "    <tr>\n",
              "      <th>1</th>\n",
              "      <td>917.347688</td>\n",
              "      <td>71.403843</td>\n",
              "      <td>101.935179</td>\n",
              "      <td>2.443009</td>\n",
              "      <td>140.471548</td>\n",
              "      <td>3.533324</td>\n",
              "      <td>0.0</td>\n",
              "      <td>0.0</td>\n",
              "      <td>24.328697</td>\n",
              "      <td>19.426597</td>\n",
              "      <td>0.0</td>\n",
              "    </tr>\n",
              "  </tbody>\n",
              "</table>\n",
              "</div>\n",
              "      <button class=\"colab-df-convert\" onclick=\"convertToInteractive('df-590838ea-09a5-4d86-b9c4-72c79526af0f')\"\n",
              "              title=\"Convert this dataframe to an interactive table.\"\n",
              "              style=\"display:none;\">\n",
              "        \n",
              "  <svg xmlns=\"http://www.w3.org/2000/svg\" height=\"24px\"viewBox=\"0 0 24 24\"\n",
              "       width=\"24px\">\n",
              "    <path d=\"M0 0h24v24H0V0z\" fill=\"none\"/>\n",
              "    <path d=\"M18.56 5.44l.94 2.06.94-2.06 2.06-.94-2.06-.94-.94-2.06-.94 2.06-2.06.94zm-11 1L8.5 8.5l.94-2.06 2.06-.94-2.06-.94L8.5 2.5l-.94 2.06-2.06.94zm10 10l.94 2.06.94-2.06 2.06-.94-2.06-.94-.94-2.06-.94 2.06-2.06.94z\"/><path d=\"M17.41 7.96l-1.37-1.37c-.4-.4-.92-.59-1.43-.59-.52 0-1.04.2-1.43.59L10.3 9.45l-7.72 7.72c-.78.78-.78 2.05 0 2.83L4 21.41c.39.39.9.59 1.41.59.51 0 1.02-.2 1.41-.59l7.78-7.78 2.81-2.81c.8-.78.8-2.07 0-2.86zM5.41 20L4 18.59l7.72-7.72 1.47 1.35L5.41 20z\"/>\n",
              "  </svg>\n",
              "      </button>\n",
              "      \n",
              "  <style>\n",
              "    .colab-df-container {\n",
              "      display:flex;\n",
              "      flex-wrap:wrap;\n",
              "      gap: 12px;\n",
              "    }\n",
              "\n",
              "    .colab-df-convert {\n",
              "      background-color: #E8F0FE;\n",
              "      border: none;\n",
              "      border-radius: 50%;\n",
              "      cursor: pointer;\n",
              "      display: none;\n",
              "      fill: #1967D2;\n",
              "      height: 32px;\n",
              "      padding: 0 0 0 0;\n",
              "      width: 32px;\n",
              "    }\n",
              "\n",
              "    .colab-df-convert:hover {\n",
              "      background-color: #E2EBFA;\n",
              "      box-shadow: 0px 1px 2px rgba(60, 64, 67, 0.3), 0px 1px 3px 1px rgba(60, 64, 67, 0.15);\n",
              "      fill: #174EA6;\n",
              "    }\n",
              "\n",
              "    [theme=dark] .colab-df-convert {\n",
              "      background-color: #3B4455;\n",
              "      fill: #D2E3FC;\n",
              "    }\n",
              "\n",
              "    [theme=dark] .colab-df-convert:hover {\n",
              "      background-color: #434B5C;\n",
              "      box-shadow: 0px 1px 3px 1px rgba(0, 0, 0, 0.15);\n",
              "      filter: drop-shadow(0px 1px 2px rgba(0, 0, 0, 0.3));\n",
              "      fill: #FFFFFF;\n",
              "    }\n",
              "  </style>\n",
              "\n",
              "      <script>\n",
              "        const buttonEl =\n",
              "          document.querySelector('#df-590838ea-09a5-4d86-b9c4-72c79526af0f button.colab-df-convert');\n",
              "        buttonEl.style.display =\n",
              "          google.colab.kernel.accessAllowed ? 'block' : 'none';\n",
              "\n",
              "        async function convertToInteractive(key) {\n",
              "          const element = document.querySelector('#df-590838ea-09a5-4d86-b9c4-72c79526af0f');\n",
              "          const dataTable =\n",
              "            await google.colab.kernel.invokeFunction('convertToInteractive',\n",
              "                                                     [key], {});\n",
              "          if (!dataTable) return;\n",
              "\n",
              "          const docLinkHtml = 'Like what you see? Visit the ' +\n",
              "            '<a target=\"_blank\" href=https://colab.research.google.com/notebooks/data_table.ipynb>data table notebook</a>'\n",
              "            + ' to learn more about interactive tables.';\n",
              "          element.innerHTML = '';\n",
              "          dataTable['output_type'] = 'display_data';\n",
              "          await google.colab.output.renderOutput(dataTable, element);\n",
              "          const docLink = document.createElement('div');\n",
              "          docLink.innerHTML = docLinkHtml;\n",
              "          element.appendChild(docLink);\n",
              "        }\n",
              "      </script>\n",
              "    </div>\n",
              "  </div>\n",
              "  "
            ]
          },
          "metadata": {},
          "execution_count": 11
        }
      ],
      "source": [
        "binarizedDF.toPandas().head(2)"
      ]
    },
    {
      "cell_type": "markdown",
      "metadata": {
        "id": "sYhjgyF4o2UN"
      },
      "source": [
        "Let's aggregate the features we will use to make predictions into a single column: The inputCols argument specifies our list of column names we defined earlier, and outputCol is the name of the new column. The second line creates a new DataFrame with the aggregated features in a column."
      ]
    },
    {
      "cell_type": "code",
      "execution_count": null,
      "metadata": {
        "id": "tYD6W52Uo2UN"
      },
      "outputs": [],
      "source": [
        "assembler = VectorAssembler(inputCols=featureColumns,\n",
        "                           outputCol = 'features')\n",
        "\n",
        "assembled = assembler.transform(binarizedDF)"
      ]
    },
    {
      "cell_type": "code",
      "execution_count": null,
      "metadata": {
        "colab": {
          "base_uri": "https://localhost:8080/"
        },
        "id": "1z7a_ZSyo2UN",
        "outputId": "73fc3994-9341-44b0-a52e-59e750b744f4"
      },
      "outputs": [
        {
          "output_type": "stream",
          "name": "stdout",
          "text": [
            "+--------------------+\n",
            "|            features|\n",
            "+--------------------+\n",
            "|[918.060000000008...|\n",
            "|[917.347688117709...|\n",
            "+--------------------+\n",
            "only showing top 2 rows\n",
            "\n"
          ]
        }
      ],
      "source": [
        "assembled.select('features').show(2)"
      ]
    },
    {
      "cell_type": "markdown",
      "metadata": {
        "id": "aITGdS7Ho2UN"
      },
      "source": [
        "## Data Preprocessing\n",
        "\n",
        "Split training and test data. We can split the data by calling randomSplit():The first argument is how many parts to split the data into and the approximate size of each. This specifies two sets of 80% and 20%. Normally, the seed should not be specified, but we use a specific value here so that everyone will get the same decision tree.\n",
        "\n",
        "`We can print the number of rows in each DataFrame to check the sizes (1095 * 80% = 851.2).`"
      ]
    },
    {
      "cell_type": "code",
      "execution_count": null,
      "metadata": {
        "id": "jcrTPnIRo2UN"
      },
      "outputs": [],
      "source": [
        "(trainingData, testData) = assembled.randomSplit([0.8,0.2], seed=1234)"
      ]
    },
    {
      "cell_type": "code",
      "execution_count": null,
      "metadata": {
        "colab": {
          "base_uri": "https://localhost:8080/"
        },
        "id": "NGK1Tn2to2UN",
        "outputId": "2eb2e8cb-d74e-4d8c-8063-f74f6fb44043"
      },
      "outputs": [
        {
          "output_type": "execute_result",
          "data": {
            "text/plain": [
              "(846, 218)"
            ]
          },
          "metadata": {},
          "execution_count": 15
        }
      ],
      "source": [
        "trainingData.count(),testData.count()"
      ]
    },
    {
      "cell_type": "markdown",
      "metadata": {
        "id": "zl5aP6nLo2UN"
      },
      "source": [
        "## Decision Tree Classifier\n",
        "\n",
        "![](https://lh4.googleusercontent.com/v9UQUwaQTAXVH90b-Ugyw2_61_uErfYvTBtG-RNRNB_eHUFq9AmAN_2IOdfOETnbXImnQVN-wPC7_YzDgf7urCeyhyx5UZmuSwV8BVsV8VnHxl1KtgpuxDifJ4pLE23ooYXLlnc)\n",
        "\n",
        "Decision tree learning is one of the predictive modelling approaches used in statistics, data mining and machine learning. It uses a decision tree (as a predictive model) to go from observations about an item (represented in the branches) to conclusions about the item's target value (represented in the leaves). Tree models where the target variable can take a discrete set of values are called classification trees; in these tree structures, leaves represent class labels and branches represent conjunctions of features that lead to those class labels. Decision trees where the target variable can take continuous values (typically real numbers) are called regression trees. Decision trees are among the most popular machine learning algorithms given their intelligibility and simplicity."
      ]
    },
    {
      "cell_type": "markdown",
      "metadata": {
        "id": "H_bZoYa-o2UN"
      },
      "source": [
        "The labelCol argument is the column we are trying to predict, featuresCol specifies the aggregated features column, maxDepth is stopping criterion for tree induction based on maximum depth of tree, minInstancesPerNode is stopping criterion for tree induction based on minimum number of samples in a node, and impurity is the impurity measure used to split nodes.\n",
        "\n",
        "`We can create a model by training the decision tree. This is done by executing it in a Pipeline.`"
      ]
    },
    {
      "cell_type": "code",
      "execution_count": null,
      "metadata": {
        "id": "mbfPiHUIo2UN"
      },
      "outputs": [],
      "source": [
        "dt = DecisionTreeClassifier(labelCol='label',featuresCol='features',maxDepth=5,\n",
        "                           minInstancesPerNode = 20, impurity = 'gini')"
      ]
    },
    {
      "cell_type": "code",
      "execution_count": null,
      "metadata": {
        "id": "fmTfLSV1o2UO"
      },
      "outputs": [],
      "source": [
        "pipeline = Pipeline(stages=[dt])\n",
        "model = pipeline.fit(trainingData)"
      ]
    },
    {
      "cell_type": "markdown",
      "metadata": {
        "id": "ynTz3YB0o2UO"
      },
      "source": [
        "`Let's make predictions using our test data set.`"
      ]
    },
    {
      "cell_type": "code",
      "execution_count": null,
      "metadata": {
        "id": "Ch3mSvCgo2UO"
      },
      "outputs": [],
      "source": [
        "predictions = model.transform(testData)"
      ]
    },
    {
      "cell_type": "code",
      "execution_count": null,
      "metadata": {
        "colab": {
          "base_uri": "https://localhost:8080/"
        },
        "id": "W9tyXZVyo2UO",
        "outputId": "4fa84e85-c47f-4c8b-fb0b-854c1879df13"
      },
      "outputs": [
        {
          "output_type": "stream",
          "name": "stdout",
          "text": [
            "+----------+-----+\n",
            "|prediction|label|\n",
            "+----------+-----+\n",
            "|       1.0|  1.0|\n",
            "|       1.0|  1.0|\n",
            "|       1.0|  1.0|\n",
            "|       1.0|  1.0|\n",
            "|       1.0|  1.0|\n",
            "+----------+-----+\n",
            "only showing top 5 rows\n",
            "\n"
          ]
        }
      ],
      "source": [
        "predictions.select('prediction','label').show(5)"
      ]
    },
    {
      "cell_type": "markdown",
      "metadata": {
        "id": "XLAddqQjo2UO"
      },
      "source": [
        "Save predictions to CSV. Finally, let's save the predictions to a CSV file. In the next Spark hands-on activity, we will evaluate the accuracy.\n",
        "\n",
        "`Let's save only the prediction and label columns to a CSV file.`"
      ]
    },
    {
      "cell_type": "code",
      "execution_count": null,
      "metadata": {
        "id": "gDPxahMho2UO"
      },
      "outputs": [],
      "source": [
        "predictions.select('prediction','label').write.save('low_humidity_prediction.csv', \n",
        "                          format='com.databricks.spark.csv', \n",
        "                          header='true',inferSchema='true')"
      ]
    },
    {
      "cell_type": "markdown",
      "metadata": {
        "id": "gquye1Oco2UO"
      },
      "source": [
        "## Model Evaluation\n",
        "\n",
        "Model evaluation aims to estimate the generalization accuracy of a model on future (unseen/out-of-sample) data.\n",
        "Methods for evaluating a model’s performance are divided into 2 categories: namely, holdout and Cross-validation. Both methods use a test set (i.e data not seen by the model) to evaluate model performance. It’s not recommended to use the data we used to build the model to evaluate it. This is because our model will simply remember the whole training set, and will therefore always predict the correct label for any point in the training set. This is known as overfitting.\n",
        "\n",
        "`Execute the next cell to load the classes.`"
      ]
    },
    {
      "cell_type": "code",
      "execution_count": null,
      "metadata": {
        "id": "7g9aU1Rgo2UP"
      },
      "outputs": [],
      "source": [
        "from pyspark.ml.evaluation import MulticlassClassificationEvaluator\n",
        "from pyspark.mllib.evaluation import MulticlassMetrics"
      ]
    },
    {
      "cell_type": "code",
      "execution_count": null,
      "metadata": {
        "id": "pCFw8PT5o2UP"
      },
      "outputs": [],
      "source": [
        "predictions = sqlContext.read.load('./low_humidity_prediction.csv', \n",
        "                          format='com.databricks.spark.csv', \n",
        "                          header='true',inferSchema='true')"
      ]
    },
    {
      "cell_type": "code",
      "execution_count": null,
      "metadata": {
        "colab": {
          "base_uri": "https://localhost:8080/"
        },
        "id": "N1gMyoido2UP",
        "outputId": "f176f0b7-cb86-43b5-cbf5-2e2fef5c9491"
      },
      "outputs": [
        {
          "output_type": "stream",
          "name": "stdout",
          "text": [
            "+----------+-----+\n",
            "|prediction|label|\n",
            "+----------+-----+\n",
            "|       1.0|  1.0|\n",
            "|       1.0|  1.0|\n",
            "|       1.0|  1.0|\n",
            "|       1.0|  1.0|\n",
            "|       1.0|  1.0|\n",
            "+----------+-----+\n",
            "only showing top 5 rows\n",
            "\n"
          ]
        }
      ],
      "source": [
        "predictions.show(5)"
      ]
    },
    {
      "cell_type": "markdown",
      "metadata": {
        "id": "x0W4g8kXo2UP"
      },
      "source": [
        "`Let's create an instance of MulticlassClassificationEvaluator to determine the accuracy of the predictions.`"
      ]
    },
    {
      "cell_type": "code",
      "execution_count": null,
      "metadata": {
        "id": "MaMTO2Szo2UP"
      },
      "outputs": [],
      "source": [
        "evaluator = MulticlassClassificationEvaluator(labelCol='label',\n",
        "                                             predictionCol = 'prediction',\n",
        "                                             metricName = 'accuracy')"
      ]
    },
    {
      "cell_type": "markdown",
      "metadata": {
        "id": "W2qW8MAbo2UP"
      },
      "source": [
        "The first two arguments specify the names of the label and prediction columns, and the third argument specifies that we want the overall precision.\n",
        "\n",
        "`We can compute the accuracy by calling evaluate().`"
      ]
    },
    {
      "cell_type": "code",
      "execution_count": null,
      "metadata": {
        "colab": {
          "base_uri": "https://localhost:8080/"
        },
        "id": "LtT1yoLao2UP",
        "outputId": "a8425b77-75ed-4b07-e565-b39d7ecefa73"
      },
      "outputs": [
        {
          "output_type": "stream",
          "name": "stdout",
          "text": [
            "0.7522935779816514\n"
          ]
        }
      ],
      "source": [
        "acc = evaluator.evaluate(predictions)\n",
        "print(acc)"
      ]
    },
    {
      "cell_type": "markdown",
      "metadata": {
        "id": "pXe4VfQ9o2UP"
      },
      "source": [
        "## Confusion Metrics\n",
        "\n",
        "The MulticlassMetrics class can be used to generate a confusion matrix of our classifier model. However, unlike MulticlassClassificationEvaluator, MulticlassMetrics works with RDDs of numbers and not DataFrames, so we need to convert our predictions DataFrame into an RDD.\n",
        "\n",
        "If we use the rdd attribute of predictions, we see this is an RDD of Rows."
      ]
    },
    {
      "cell_type": "code",
      "execution_count": null,
      "metadata": {
        "colab": {
          "base_uri": "https://localhost:8080/"
        },
        "id": "ZxvKcTg4o2UP",
        "outputId": "033ea121-5d20-464d-86e5-a4bf14418c88"
      },
      "outputs": [
        {
          "output_type": "execute_result",
          "data": {
            "text/plain": [
              "[Row(prediction=1.0, label=1.0), Row(prediction=1.0, label=1.0)]"
            ]
          },
          "metadata": {},
          "execution_count": 26
        }
      ],
      "source": [
        "predictions.rdd.take(2)"
      ]
    },
    {
      "cell_type": "markdown",
      "metadata": {
        "id": "ZWcQnbt1o2UP"
      },
      "source": [
        "Instead, we can map the RDD to tuple to get an RDD of numbers:"
      ]
    },
    {
      "cell_type": "code",
      "execution_count": null,
      "metadata": {
        "colab": {
          "base_uri": "https://localhost:8080/"
        },
        "id": "AMzAtqHao2UQ",
        "outputId": "1fe4ba52-e525-48ce-9572-19aefb1a8595"
      },
      "outputs": [
        {
          "output_type": "execute_result",
          "data": {
            "text/plain": [
              "[(1.0, 1.0), (1.0, 1.0), (1.0, 1.0), (1.0, 1.0), (1.0, 1.0)]"
            ]
          },
          "metadata": {},
          "execution_count": 27
        }
      ],
      "source": [
        "predictions.rdd.map(tuple).take(5)"
      ]
    },
    {
      "cell_type": "markdown",
      "metadata": {
        "id": "g_fNC280o2UQ"
      },
      "source": [
        "`Let's create an instance of MulticlassMetrics with this RDD:`"
      ]
    },
    {
      "cell_type": "code",
      "execution_count": null,
      "metadata": {
        "colab": {
          "base_uri": "https://localhost:8080/"
        },
        "id": "mpcKJNMWo2UQ",
        "outputId": "cc1a759b-869b-4255-da5e-447144408032"
      },
      "outputs": [
        {
          "output_type": "stream",
          "name": "stderr",
          "text": [
            "/usr/local/lib/python3.7/dist-packages/pyspark/sql/context.py:159: FutureWarning: Deprecated in 3.0.0. Use SparkSession.builder.getOrCreate() instead.\n",
            "  FutureWarning,\n"
          ]
        }
      ],
      "source": [
        "metrics = MulticlassMetrics(predictions.rdd.map(tuple))"
      ]
    },
    {
      "cell_type": "markdown",
      "metadata": {
        "id": "AIJigUEDo2UQ"
      },
      "source": [
        "`The confusionMatrix() function returns a Spark Matrix, which we can convert to a Python Numpy array, and transpose to view.`"
      ]
    },
    {
      "cell_type": "code",
      "execution_count": null,
      "metadata": {
        "colab": {
          "base_uri": "https://localhost:8080/"
        },
        "id": "Z5spxBDio2UQ",
        "outputId": "c76f1056-a954-47e1-f2c8-7e45c7b7fb6e"
      },
      "outputs": [
        {
          "output_type": "execute_result",
          "data": {
            "text/plain": [
              "array([[81., 33.],\n",
              "       [21., 83.]])"
            ]
          },
          "metadata": {},
          "execution_count": 29
        }
      ],
      "source": [
        "metrics.confusionMatrix().toArray().T"
      ]
    },
    {
      "cell_type": "markdown",
      "metadata": {
        "id": "IFFtNTCto2UQ"
      },
      "source": [
        "# Unsupervised Learning\n",
        "\n",
        "![](https://miro.medium.com/max/1280/1*HU617gljScDVnanadMzCcQ.gif)\n",
        "\n",
        "Unsupervised learning is a type of machine learning that looks for previously undetected patterns in a data set with no pre-existing labels and with a minimum of human supervision. In contrast to supervised learning that usually makes use of human-labeled data, unsupervised learning, also known as self-organization allows for modeling of probability densities over inputs. It forms one of the three main categories of machine learning, along with supervised and reinforcement learning. Semi-supervised learning, a related variant, makes use of supervised and unsupervised techniques."
      ]
    },
    {
      "cell_type": "markdown",
      "metadata": {
        "id": "Xp1u-uxKo2UQ"
      },
      "source": [
        "## KMeans Clustering\n",
        "\n",
        "![](https://sharpneat.sourceforge.io/research/kmeans_example_animation.gif)\n",
        "\n",
        "k-means clustering is a method of vector quantization, originally from signal processing, that aims to partition n observations into k clusters in which each observation belongs to the cluster with the nearest mean (cluster centers or cluster centroid), serving as a prototype of the cluster. This results in a partitioning of the data space into Voronoi cells. It is popular for cluster analysis in data mining. k-means clustering minimizes within-cluster variances (squared Euclidean distances), but not regular Euclidean distances, which would be the more difficult Weber problem: the mean optimizes squared errors, whereas only the geometric median minimizes Euclidean distances. For instance, better Euclidean solutions can be found using k-medians and k-medoids."
      ]
    },
    {
      "cell_type": "markdown",
      "metadata": {
        "id": "7PeyjtYDo2UQ"
      },
      "source": [
        "## Problem Description\n",
        "\n",
        "This activity guides you through the process of performing cluster analysis on a dataset using k-means. In this activity, we will perform cluster analysis on the minute-weather.csv dataset using the k-means algorithm. Recall that this dataset contains weather measurements such as temperature, relative humidity, etc., from a weather station in San Diego, California, collected at one-minute intervals. The goal of cluster analysis on this data is to identify different weather patterns for this weather station."
      ]
    },
    {
      "cell_type": "markdown",
      "metadata": {
        "id": "aqg1yU40o2UQ"
      },
      "source": [
        "`Execute the next cell to load the classes used in this activity.`"
      ]
    },
    {
      "cell_type": "code",
      "execution_count": null,
      "metadata": {
        "id": "pIDcGG9Oo2UQ"
      },
      "outputs": [],
      "source": [
        "from pyspark.sql import SQLContext\n",
        "from pyspark.ml.clustering import KMeans\n",
        "from pyspark.ml.feature import VectorAssembler\n",
        "from pyspark.ml.feature import StandardScaler\n",
        "%matplotlib inline"
      ]
    },
    {
      "cell_type": "markdown",
      "metadata": {
        "id": "hF1kZt6Uo2UR"
      },
      "source": [
        "`I am making this extra codes to make plots. Please feel free to explore.`"
      ]
    },
    {
      "cell_type": "code",
      "execution_count": null,
      "metadata": {
        "id": "EBK7rPKIo2UR"
      },
      "outputs": [],
      "source": [
        "from itertools import cycle, islice\n",
        "from math import sqrt\n",
        "from numpy import array\n",
        "from pandas.plotting import parallel_coordinates\n",
        "from pyspark.ml.clustering import KMeans as KM\n",
        "from pyspark.mllib.linalg import DenseVector\n",
        "import matplotlib.pyplot as plt\n",
        "import numpy as np\n",
        "import pandas as pd\n",
        "\n",
        "def computeCost(featuresAndPrediction, model):\n",
        "    allClusterCenters = [DenseVector(c) for c in model.clusterCenters()]\n",
        "    arrayCollection   = featuresAndPrediction.rdd.map(array)\n",
        "\n",
        "    def error(point, predictedCluster):\n",
        "        center = allClusterCenters[predictedCluster]\n",
        "        z      = point - center\n",
        "        return sqrt((z*z).sum())\n",
        "    \n",
        "    return arrayCollection.map(lambda row: error(row[0], row[1])).reduce(lambda x, y: x + y)\n",
        "\n",
        "\n",
        "def elbow(elbowset, clusters):\n",
        "    wsseList = []\t\n",
        "    for k in clusters:\n",
        "        print(\"Training for cluster size {} \".format(k))\n",
        "        kmeans = KM(k = k, seed = 1)\n",
        "        model = kmeans.fit(elbowset)\n",
        "        transformed = model.transform(elbowset)\n",
        "        featuresAndPrediction = transformed.select(\"features\", \"prediction\")\n",
        "\n",
        "        W = computeCost(featuresAndPrediction, model)\n",
        "        print(\"......................WSSE = {} \".format(W))\n",
        "\n",
        "        wsseList.append(W)\n",
        "    return wsseList\n",
        "\n",
        "def elbow_plot(wsseList, clusters):\n",
        "    wsseDF = pd.DataFrame({'WSSE' : wsseList, 'k' : clusters })\n",
        "    wsseDF.plot(y='WSSE', x='k', figsize=(15,10), grid=True, marker='o')\n",
        "\n",
        "def pd_centers(featuresUsed, centers):\n",
        "    colNames = list(featuresUsed)\n",
        "    colNames.append('prediction')\n",
        "\n",
        "    # Zip with a column called 'prediction' (index)\n",
        "    Z = [np.append(A, index) for index, A in enumerate(centers)]\n",
        "\n",
        "    # Convert to pandas for plotting\n",
        "    P = pd.DataFrame(Z, columns=colNames)\n",
        "    P['prediction'] = P['prediction'].astype(int)\n",
        "    return P\n",
        "\n",
        "def parallel_plot(data, P):\n",
        "    my_colors = list(islice(cycle(['b', 'r', 'g', 'y', 'k']), None, len(P)))\n",
        "    plt.figure(figsize=(15,8)).gca().axes.set_ylim([-3,+3])\n",
        "    parallel_coordinates(data, 'prediction', color = my_colors, marker='o')"
      ]
    },
    {
      "cell_type": "markdown",
      "metadata": {
        "id": "Lddqbdz7o2UR"
      },
      "source": [
        "`Execute the cell to load the minute weather data in minute_weather.csv.`"
      ]
    },
    {
      "cell_type": "code",
      "execution_count": null,
      "metadata": {
        "id": "xwdJUfCCo2UR"
      },
      "outputs": [],
      "source": [
        "df = sqlContext.read.load('minute_weather.csv', \n",
        "                          format='com.databricks.spark.csv', \n",
        "                          header='true',inferSchema='true')"
      ]
    },
    {
      "cell_type": "code",
      "execution_count": null,
      "metadata": {
        "id": "HxlcUOwho2UR",
        "colab": {
          "base_uri": "https://localhost:8080/"
        },
        "outputId": "18eaa3f2-69bb-4ff4-b9e2-88a69385f2df"
      },
      "outputs": [
        {
          "output_type": "execute_result",
          "data": {
            "text/plain": [
              "248473"
            ]
          },
          "metadata": {},
          "execution_count": 33
        }
      ],
      "source": [
        "df.count()"
      ]
    },
    {
      "cell_type": "markdown",
      "metadata": {
        "id": "oYjk_XNho2UR"
      },
      "source": [
        "`There are over 1.5 million rows in the DataFrame. Clustering this data on your computer in the Cloudera VM can take a long time, so let's only one-tenth of the data. We can subset by calling filter() and using the rowID column.`"
      ]
    },
    {
      "cell_type": "code",
      "execution_count": null,
      "metadata": {
        "id": "oJLjnU9Eo2UR",
        "colab": {
          "base_uri": "https://localhost:8080/"
        },
        "outputId": "fcdecdc5-0cc7-42c8-fc6b-f915f585acae"
      },
      "outputs": [
        {
          "output_type": "execute_result",
          "data": {
            "text/plain": [
              "24848"
            ]
          },
          "metadata": {},
          "execution_count": 34
        }
      ],
      "source": [
        "filteredDF = df.filter((df.rowID % 10 == 0))\n",
        "filteredDF.count()"
      ]
    },
    {
      "cell_type": "markdown",
      "metadata": {
        "id": "M7x78t3Ko2UR"
      },
      "source": [
        "`Let's compute the summary statistics using describe().`"
      ]
    },
    {
      "cell_type": "code",
      "execution_count": null,
      "metadata": {
        "id": "us-Z8L3No2UR",
        "colab": {
          "base_uri": "https://localhost:8080/",
          "height": 270
        },
        "outputId": "5cb4ad62-2125-484f-aa8f-5b00a16988dc"
      },
      "outputs": [
        {
          "output_type": "execute_result",
          "data": {
            "text/plain": [
              "  summary              rowID       air_pressure            air_temp  \\\n",
              "0   count              24848              24848               24848   \n",
              "1    mean           124235.0   917.949130714747   57.83194140373477   \n",
              "2  stddev  71731.44080527032  3.391340640503805  11.380597609342674   \n",
              "3     min                  0              906.4                32.9   \n",
              "4     max             248470              929.5               90.68   \n",
              "\n",
              "   avg_wind_direction      avg_wind_speed max_wind_direction  \\\n",
              "0               24838               24838              24838   \n",
              "1  146.60242370561238  2.8695023753925466  149.1830662694259   \n",
              "2   96.55137749383688  2.0781417833501905   92.1516499322866   \n",
              "3                 0.0                 0.0                0.0   \n",
              "4               359.0                23.4              359.0   \n",
              "\n",
              "       max_wind_speed  min_wind_direction      min_wind_speed  \\\n",
              "0               24838               24838               24838   \n",
              "1  3.5281302842418834  150.23262742571865  2.1949351799661785   \n",
              "2   2.453982446847226  101.67085577167332   1.755556038379565   \n",
              "3                 0.1                 0.0                 0.0   \n",
              "4                24.5               359.0                21.6   \n",
              "\n",
              "       rain_accumulation      rain_duration   relative_humidity  \n",
              "0                  24847              24847               24848  \n",
              "1   4.398921398964554E-4  0.662454219825331   44.83176513200264  \n",
              "2  0.0070259348073800345  5.870616597886605  28.553998215547786  \n",
              "3                    0.0                0.0                 1.4  \n",
              "4                   0.43               60.0                93.0  "
            ],
            "text/html": [
              "\n",
              "  <div id=\"df-2a3d8856-e8f5-478e-a3b9-515ece3a9bdb\">\n",
              "    <div class=\"colab-df-container\">\n",
              "      <div>\n",
              "<style scoped>\n",
              "    .dataframe tbody tr th:only-of-type {\n",
              "        vertical-align: middle;\n",
              "    }\n",
              "\n",
              "    .dataframe tbody tr th {\n",
              "        vertical-align: top;\n",
              "    }\n",
              "\n",
              "    .dataframe thead th {\n",
              "        text-align: right;\n",
              "    }\n",
              "</style>\n",
              "<table border=\"1\" class=\"dataframe\">\n",
              "  <thead>\n",
              "    <tr style=\"text-align: right;\">\n",
              "      <th></th>\n",
              "      <th>summary</th>\n",
              "      <th>rowID</th>\n",
              "      <th>air_pressure</th>\n",
              "      <th>air_temp</th>\n",
              "      <th>avg_wind_direction</th>\n",
              "      <th>avg_wind_speed</th>\n",
              "      <th>max_wind_direction</th>\n",
              "      <th>max_wind_speed</th>\n",
              "      <th>min_wind_direction</th>\n",
              "      <th>min_wind_speed</th>\n",
              "      <th>rain_accumulation</th>\n",
              "      <th>rain_duration</th>\n",
              "      <th>relative_humidity</th>\n",
              "    </tr>\n",
              "  </thead>\n",
              "  <tbody>\n",
              "    <tr>\n",
              "      <th>0</th>\n",
              "      <td>count</td>\n",
              "      <td>24848</td>\n",
              "      <td>24848</td>\n",
              "      <td>24848</td>\n",
              "      <td>24838</td>\n",
              "      <td>24838</td>\n",
              "      <td>24838</td>\n",
              "      <td>24838</td>\n",
              "      <td>24838</td>\n",
              "      <td>24838</td>\n",
              "      <td>24847</td>\n",
              "      <td>24847</td>\n",
              "      <td>24848</td>\n",
              "    </tr>\n",
              "    <tr>\n",
              "      <th>1</th>\n",
              "      <td>mean</td>\n",
              "      <td>124235.0</td>\n",
              "      <td>917.949130714747</td>\n",
              "      <td>57.83194140373477</td>\n",
              "      <td>146.60242370561238</td>\n",
              "      <td>2.8695023753925466</td>\n",
              "      <td>149.1830662694259</td>\n",
              "      <td>3.5281302842418834</td>\n",
              "      <td>150.23262742571865</td>\n",
              "      <td>2.1949351799661785</td>\n",
              "      <td>4.398921398964554E-4</td>\n",
              "      <td>0.662454219825331</td>\n",
              "      <td>44.83176513200264</td>\n",
              "    </tr>\n",
              "    <tr>\n",
              "      <th>2</th>\n",
              "      <td>stddev</td>\n",
              "      <td>71731.44080527032</td>\n",
              "      <td>3.391340640503805</td>\n",
              "      <td>11.380597609342674</td>\n",
              "      <td>96.55137749383688</td>\n",
              "      <td>2.0781417833501905</td>\n",
              "      <td>92.1516499322866</td>\n",
              "      <td>2.453982446847226</td>\n",
              "      <td>101.67085577167332</td>\n",
              "      <td>1.755556038379565</td>\n",
              "      <td>0.0070259348073800345</td>\n",
              "      <td>5.870616597886605</td>\n",
              "      <td>28.553998215547786</td>\n",
              "    </tr>\n",
              "    <tr>\n",
              "      <th>3</th>\n",
              "      <td>min</td>\n",
              "      <td>0</td>\n",
              "      <td>906.4</td>\n",
              "      <td>32.9</td>\n",
              "      <td>0.0</td>\n",
              "      <td>0.0</td>\n",
              "      <td>0.0</td>\n",
              "      <td>0.1</td>\n",
              "      <td>0.0</td>\n",
              "      <td>0.0</td>\n",
              "      <td>0.0</td>\n",
              "      <td>0.0</td>\n",
              "      <td>1.4</td>\n",
              "    </tr>\n",
              "    <tr>\n",
              "      <th>4</th>\n",
              "      <td>max</td>\n",
              "      <td>248470</td>\n",
              "      <td>929.5</td>\n",
              "      <td>90.68</td>\n",
              "      <td>359.0</td>\n",
              "      <td>23.4</td>\n",
              "      <td>359.0</td>\n",
              "      <td>24.5</td>\n",
              "      <td>359.0</td>\n",
              "      <td>21.6</td>\n",
              "      <td>0.43</td>\n",
              "      <td>60.0</td>\n",
              "      <td>93.0</td>\n",
              "    </tr>\n",
              "  </tbody>\n",
              "</table>\n",
              "</div>\n",
              "      <button class=\"colab-df-convert\" onclick=\"convertToInteractive('df-2a3d8856-e8f5-478e-a3b9-515ece3a9bdb')\"\n",
              "              title=\"Convert this dataframe to an interactive table.\"\n",
              "              style=\"display:none;\">\n",
              "        \n",
              "  <svg xmlns=\"http://www.w3.org/2000/svg\" height=\"24px\"viewBox=\"0 0 24 24\"\n",
              "       width=\"24px\">\n",
              "    <path d=\"M0 0h24v24H0V0z\" fill=\"none\"/>\n",
              "    <path d=\"M18.56 5.44l.94 2.06.94-2.06 2.06-.94-2.06-.94-.94-2.06-.94 2.06-2.06.94zm-11 1L8.5 8.5l.94-2.06 2.06-.94-2.06-.94L8.5 2.5l-.94 2.06-2.06.94zm10 10l.94 2.06.94-2.06 2.06-.94-2.06-.94-.94-2.06-.94 2.06-2.06.94z\"/><path d=\"M17.41 7.96l-1.37-1.37c-.4-.4-.92-.59-1.43-.59-.52 0-1.04.2-1.43.59L10.3 9.45l-7.72 7.72c-.78.78-.78 2.05 0 2.83L4 21.41c.39.39.9.59 1.41.59.51 0 1.02-.2 1.41-.59l7.78-7.78 2.81-2.81c.8-.78.8-2.07 0-2.86zM5.41 20L4 18.59l7.72-7.72 1.47 1.35L5.41 20z\"/>\n",
              "  </svg>\n",
              "      </button>\n",
              "      \n",
              "  <style>\n",
              "    .colab-df-container {\n",
              "      display:flex;\n",
              "      flex-wrap:wrap;\n",
              "      gap: 12px;\n",
              "    }\n",
              "\n",
              "    .colab-df-convert {\n",
              "      background-color: #E8F0FE;\n",
              "      border: none;\n",
              "      border-radius: 50%;\n",
              "      cursor: pointer;\n",
              "      display: none;\n",
              "      fill: #1967D2;\n",
              "      height: 32px;\n",
              "      padding: 0 0 0 0;\n",
              "      width: 32px;\n",
              "    }\n",
              "\n",
              "    .colab-df-convert:hover {\n",
              "      background-color: #E2EBFA;\n",
              "      box-shadow: 0px 1px 2px rgba(60, 64, 67, 0.3), 0px 1px 3px 1px rgba(60, 64, 67, 0.15);\n",
              "      fill: #174EA6;\n",
              "    }\n",
              "\n",
              "    [theme=dark] .colab-df-convert {\n",
              "      background-color: #3B4455;\n",
              "      fill: #D2E3FC;\n",
              "    }\n",
              "\n",
              "    [theme=dark] .colab-df-convert:hover {\n",
              "      background-color: #434B5C;\n",
              "      box-shadow: 0px 1px 3px 1px rgba(0, 0, 0, 0.15);\n",
              "      filter: drop-shadow(0px 1px 2px rgba(0, 0, 0, 0.3));\n",
              "      fill: #FFFFFF;\n",
              "    }\n",
              "  </style>\n",
              "\n",
              "      <script>\n",
              "        const buttonEl =\n",
              "          document.querySelector('#df-2a3d8856-e8f5-478e-a3b9-515ece3a9bdb button.colab-df-convert');\n",
              "        buttonEl.style.display =\n",
              "          google.colab.kernel.accessAllowed ? 'block' : 'none';\n",
              "\n",
              "        async function convertToInteractive(key) {\n",
              "          const element = document.querySelector('#df-2a3d8856-e8f5-478e-a3b9-515ece3a9bdb');\n",
              "          const dataTable =\n",
              "            await google.colab.kernel.invokeFunction('convertToInteractive',\n",
              "                                                     [key], {});\n",
              "          if (!dataTable) return;\n",
              "\n",
              "          const docLinkHtml = 'Like what you see? Visit the ' +\n",
              "            '<a target=\"_blank\" href=https://colab.research.google.com/notebooks/data_table.ipynb>data table notebook</a>'\n",
              "            + ' to learn more about interactive tables.';\n",
              "          element.innerHTML = '';\n",
              "          dataTable['output_type'] = 'display_data';\n",
              "          await google.colab.output.renderOutput(dataTable, element);\n",
              "          const docLink = document.createElement('div');\n",
              "          docLink.innerHTML = docLinkHtml;\n",
              "          element.appendChild(docLink);\n",
              "        }\n",
              "      </script>\n",
              "    </div>\n",
              "  </div>\n",
              "  "
            ]
          },
          "metadata": {},
          "execution_count": 35
        }
      ],
      "source": [
        "filteredDF.describe().toPandas()"
      ]
    },
    {
      "cell_type": "markdown",
      "metadata": {
        "id": "LFzBTdAWo2UR"
      },
      "source": [
        "`The weather measurements in this dataset were collected during a drought in San Diego. We can count the how many values of rain accumulation and duration are 0.`"
      ]
    },
    {
      "cell_type": "code",
      "execution_count": null,
      "metadata": {
        "id": "IfImtIr1o2US",
        "colab": {
          "base_uri": "https://localhost:8080/"
        },
        "outputId": "05849962-a1b1-4ae8-c656-767276500eaf"
      },
      "outputs": [
        {
          "output_type": "execute_result",
          "data": {
            "text/plain": [
              "24608"
            ]
          },
          "metadata": {},
          "execution_count": 36
        }
      ],
      "source": [
        "filteredDF.filter(filteredDF.rain_accumulation == 0).count()"
      ]
    },
    {
      "cell_type": "code",
      "execution_count": null,
      "metadata": {
        "id": "2E_NKM0po2US",
        "colab": {
          "base_uri": "https://localhost:8080/"
        },
        "outputId": "16368d56-653a-4999-d034-31feaa53528d"
      },
      "outputs": [
        {
          "output_type": "execute_result",
          "data": {
            "text/plain": [
              "24470"
            ]
          },
          "metadata": {},
          "execution_count": 37
        }
      ],
      "source": [
        "filteredDF.filter(filteredDF.rain_duration == 0).count()"
      ]
    },
    {
      "cell_type": "markdown",
      "metadata": {
        "id": "qIMqXOVLo2US"
      },
      "source": [
        "`Since most the values for these columns are 0, let's drop them from the DataFrame to speed up our analyses. We can also drop the hpwren_timestamp column since we do not use it.`"
      ]
    },
    {
      "cell_type": "code",
      "execution_count": null,
      "metadata": {
        "id": "tCsmueHko2US"
      },
      "outputs": [],
      "source": [
        "workingDF = filteredDF.drop('rain_accumulation').drop('rain_duration').drop('hpwren_timestamp')"
      ]
    },
    {
      "cell_type": "markdown",
      "metadata": {
        "id": "cvfSSPVoo2US"
      },
      "source": [
        "`Let's drop rows with missing values and count how many rows were dropped.`"
      ]
    },
    {
      "cell_type": "code",
      "execution_count": null,
      "metadata": {
        "id": "6dtsjVppo2US",
        "colab": {
          "base_uri": "https://localhost:8080/"
        },
        "outputId": "2bf15639-1749-43d6-86c0-2dd113c97b45"
      },
      "outputs": [
        {
          "output_type": "stream",
          "name": "stdout",
          "text": [
            "10\n"
          ]
        }
      ],
      "source": [
        "before = workingDF.count()\n",
        "workingDF = workingDF.na.drop()\n",
        "after = workingDF.count()\n",
        "print(before - after)"
      ]
    },
    {
      "cell_type": "code",
      "execution_count": null,
      "metadata": {
        "id": "9WrPeQV3o2US",
        "colab": {
          "base_uri": "https://localhost:8080/"
        },
        "outputId": "8bf9d126-cdcc-44d4-83c1-93ff8adc18c2"
      },
      "outputs": [
        {
          "output_type": "execute_result",
          "data": {
            "text/plain": [
              "['rowID',\n",
              " 'air_pressure',\n",
              " 'air_temp',\n",
              " 'avg_wind_direction',\n",
              " 'avg_wind_speed',\n",
              " 'max_wind_direction',\n",
              " 'max_wind_speed',\n",
              " 'min_wind_direction',\n",
              " 'min_wind_speed',\n",
              " 'relative_humidity']"
            ]
          },
          "metadata": {},
          "execution_count": 40
        }
      ],
      "source": [
        "workingDF.columns"
      ]
    },
    {
      "cell_type": "markdown",
      "metadata": {
        "id": "iYTw24TZo2US"
      },
      "source": [
        "Scale the data. Since the features are on different scales (e.g., air pressure values are in the 900’s, while relative humidities range from 0 to 100), they need to be scaled. We will scale them so that each feature will have a value of 0 for the mean, and a value of 1 for the standard deviation.\n",
        "\n",
        "`First, we will combine the columns into a single vector column. Let's look at the columns in the DataFrame.`"
      ]
    },
    {
      "cell_type": "code",
      "execution_count": null,
      "metadata": {
        "id": "_H2Ys379o2US"
      },
      "outputs": [],
      "source": [
        "featuresUsed = ['air_pressure','air_temp','avg_wind_direction','avg_wind_speed','max_wind_direction',\n",
        "                'max_wind_speed','relative_humidity']\n",
        "assembler = VectorAssembler(inputCols=featuresUsed,outputCol='features_unscaled')\n",
        "assembled = assembler.transform(workingDF)"
      ]
    },
    {
      "cell_type": "code",
      "execution_count": null,
      "metadata": {
        "id": "OHjMzmc9o2US",
        "colab": {
          "base_uri": "https://localhost:8080/"
        },
        "outputId": "3e901361-cec5-434e-f63d-043f7c9b339c"
      },
      "outputs": [
        {
          "output_type": "stream",
          "name": "stdout",
          "text": [
            "+-----+------------+--------+------------------+--------------+------------------+--------------+------------------+--------------+-----------------+--------------------+\n",
            "|rowID|air_pressure|air_temp|avg_wind_direction|avg_wind_speed|max_wind_direction|max_wind_speed|min_wind_direction|min_wind_speed|relative_humidity|   features_unscaled|\n",
            "+-----+------------+--------+------------------+--------------+------------------+--------------+------------------+--------------+-----------------+--------------------+\n",
            "|    0|       912.3|   64.76|              97.0|           1.2|             106.0|           1.6|              85.0|           1.0|             60.5|[912.3,64.76,97.0...|\n",
            "|   10|       912.3|   62.24|             144.0|           1.2|             167.0|           1.8|             115.0|           0.6|             38.5|[912.3,62.24,144....|\n",
            "+-----+------------+--------+------------------+--------------+------------------+--------------+------------------+--------------+-----------------+--------------------+\n",
            "only showing top 2 rows\n",
            "\n"
          ]
        }
      ],
      "source": [
        "assembled.show(2)"
      ]
    },
    {
      "cell_type": "markdown",
      "metadata": {
        "id": "hps0gPxQo2US"
      },
      "source": [
        "`Next, let's use StandardScaler to scale the data.`"
      ]
    },
    {
      "cell_type": "markdown",
      "metadata": {
        "id": "WaCoQKAZo2US"
      },
      "source": [
        "The withMean argument specifies to center the data with the mean before scaling, and withStd specifies to scale the data to the unit standard deviation."
      ]
    },
    {
      "cell_type": "code",
      "execution_count": null,
      "metadata": {
        "id": "dkHycoiFo2UT"
      },
      "outputs": [],
      "source": [
        "scaler = StandardScaler(inputCol='features_unscaled',outputCol='features',withMean=True,withStd=True)\n",
        "scalerModel = scaler.fit(assembled)\n",
        "scalerData = scalerModel.transform(assembled)"
      ]
    },
    {
      "cell_type": "code",
      "execution_count": null,
      "metadata": {
        "id": "fG4AjVxOo2UT",
        "colab": {
          "base_uri": "https://localhost:8080/"
        },
        "outputId": "620246a7-d9e5-4fa1-cea3-6cd4373f1b7a"
      },
      "outputs": [
        {
          "output_type": "stream",
          "name": "stdout",
          "text": [
            "+-----+------------+--------+------------------+--------------+------------------+--------------+------------------+--------------+-----------------+--------------------+--------------------+\n",
            "|rowID|air_pressure|air_temp|avg_wind_direction|avg_wind_speed|max_wind_direction|max_wind_speed|min_wind_direction|min_wind_speed|relative_humidity|   features_unscaled|            features|\n",
            "+-----+------------+--------+------------------+--------------+------------------+--------------+------------------+--------------+-----------------+--------------------+--------------------+\n",
            "|    0|       912.3|   64.76|              97.0|           1.2|             106.0|           1.6|              85.0|           1.0|             60.5|[912.3,64.76,97.0...|[-1.6661996751365...|\n",
            "|   10|       912.3|   62.24|             144.0|           1.2|             167.0|           1.8|             115.0|           0.6|             38.5|[912.3,62.24,144....|[-1.6661996751365...|\n",
            "+-----+------------+--------+------------------+--------------+------------------+--------------+------------------+--------------+-----------------+--------------------+--------------------+\n",
            "only showing top 2 rows\n",
            "\n"
          ]
        }
      ],
      "source": [
        "scalerData.show(2)"
      ]
    },
    {
      "cell_type": "markdown",
      "metadata": {
        "id": "eVYs4yVxo2UT"
      },
      "source": [
        "**Create elbow plot.** The k-means algorithm requires that the value of k, the number of clusters, to be specified. To determine a good value for k, we will use the “elbow” method. This method involves applying k-means, using different values for k, and calculating the within-cluster sum-of-squared error (WSSE). Since this means applying k-means multiple times, this process can be very compute-intensive. To speed up the process, we will use only a subset of the dataset. We will take every third sample from the dataset to create this subset."
      ]
    },
    {
      "cell_type": "code",
      "execution_count": null,
      "metadata": {
        "id": "dD-uyvPeo2UT",
        "colab": {
          "base_uri": "https://localhost:8080/"
        },
        "outputId": "a98bb0e0-955d-470e-8f67-5223663db32c"
      },
      "outputs": [
        {
          "output_type": "execute_result",
          "data": {
            "text/plain": [
              "DataFrame[features: vector]"
            ]
          },
          "metadata": {},
          "execution_count": 45
        }
      ],
      "source": [
        "scalerData = scalerData.select(\"features\",\"rowID\")\n",
        "\n",
        "elbowset = scalerData.filter(scalerData.rowID % 3 == 0).select(\"features\")\n",
        "elbowset.persist()"
      ]
    },
    {
      "cell_type": "markdown",
      "metadata": {
        "id": "0fcbH4Xdo2UT"
      },
      "source": [
        "The last line calls the persist() method to tell Spark to keep the data in memory (if possible), which will speed up the computations.\n",
        "\n",
        "`Let's compute the k-means clusters for k = 2 to 30 to create an elbow plot.`"
      ]
    },
    {
      "cell_type": "code",
      "execution_count": null,
      "metadata": {
        "id": "SXQe0walo2UT",
        "colab": {
          "base_uri": "https://localhost:8080/"
        },
        "outputId": "1ae7060c-e337-4f1f-d83b-70321109987b"
      },
      "outputs": [
        {
          "output_type": "stream",
          "name": "stdout",
          "text": [
            "Training for cluster size 2 \n",
            "......................WSSE = 17687.029145920107 \n",
            "Training for cluster size 3 \n",
            "......................WSSE = 16011.211258190679 \n",
            "Training for cluster size 4 \n",
            "......................WSSE = 14223.52616102465 \n",
            "Training for cluster size 5 \n",
            "......................WSSE = 13756.00623844711 \n",
            "Training for cluster size 6 \n",
            "......................WSSE = 12993.25551259825 \n",
            "Training for cluster size 7 \n",
            "......................WSSE = 12504.773614388308 \n",
            "Training for cluster size 8 \n",
            "......................WSSE = 12078.839187424095 \n",
            "Training for cluster size 9 \n",
            "......................WSSE = 11943.046757572578 \n",
            "Training for cluster size 10 \n",
            "......................WSSE = 11548.789172331346 \n",
            "Training for cluster size 11 \n",
            "......................WSSE = 10922.024757680632 \n",
            "Training for cluster size 12 \n",
            "......................WSSE = 10661.892524911778 \n",
            "Training for cluster size 13 \n",
            "......................WSSE = 10418.607945155487 \n",
            "Training for cluster size 14 \n",
            "......................WSSE = 10288.987817267078 \n",
            "Training for cluster size 15 \n",
            "......................WSSE = 10170.097129094958 \n"
          ]
        }
      ],
      "source": [
        "clusters = range(2,16)\n",
        "\n",
        "wsseList = elbow(elbowset,clusters)"
      ]
    },
    {
      "cell_type": "markdown",
      "metadata": {
        "id": "F5k9XH0zo2UT"
      },
      "source": [
        "The first line creates an array with the numbers 2 through 30, and the second line calls the elbow() function defined in the utils.py library to perform clustering. The first argument to elbow() is the dataset, and the second is the array of values for k. The elbow() function returns an array of the WSSE for each number of clusters.\n",
        "\n",
        "`Let's plot the results by calling elbow_plot().`"
      ]
    },
    {
      "cell_type": "code",
      "execution_count": null,
      "metadata": {
        "id": "rXUmmosXo2UT",
        "colab": {
          "base_uri": "https://localhost:8080/",
          "height": 606
        },
        "outputId": "cd93045d-4849-4f2a-b288-679421b2ebaa"
      },
      "outputs": [
        {
          "output_type": "display_data",
          "data": {
            "text/plain": [
              "<Figure size 1080x720 with 1 Axes>"
            ],
            "image/png": "[encoded data removed]"
          },
          "metadata": {
            "needs_background": "light"
          }
        }
      ],
      "source": [
        "elbow_plot(wsseList,clusters)"
      ]
    },
    {
      "cell_type": "markdown",
      "metadata": {
        "id": "RUWHKf7Xo2UT"
      },
      "source": [
        "The values for k are plotted against the WSSE values, and the elbow, or bend in the curve, provides a good estimate for the value for k. In this plot, we see that the elbow in the curve is between 10 and 15, so let's choose k = 12. We will use this value to set the number of clusters for k-means."
      ]
    },
    {
      "cell_type": "code",
      "execution_count": null,
      "metadata": {
        "id": "lWPvA17po2UT",
        "colab": {
          "base_uri": "https://localhost:8080/"
        },
        "outputId": "4ca3f890-47a6-4c2f-a8fb-8d1b4a4556be"
      },
      "outputs": [
        {
          "output_type": "execute_result",
          "data": {
            "text/plain": [
              "DataFrame[features: vector]"
            ]
          },
          "metadata": {},
          "execution_count": 49
        }
      ],
      "source": [
        "scaledDataFeat = scalerData.select('features')\n",
        "scaledDataFeat.persist()"
      ]
    },
    {
      "cell_type": "markdown",
      "metadata": {
        "id": "DYGkdgPMo2UT"
      },
      "source": [
        "The first line creates a new KMeans instance with 12 clusters and a specific seed value. (As in previous hands-on activities, we use a specific seed value for reproducible results.) The second line fits the data to the model, and the third applies the model to the data.\n",
        "\n",
        "`Once the model is created, we can determine the center measurement of each cluster.`"
      ]
    },
    {
      "cell_type": "code",
      "execution_count": null,
      "metadata": {
        "id": "yuw9Y6tVo2UT"
      },
      "outputs": [],
      "source": [
        "kmeans = KMeans(k = 12, seed=1)\n",
        "model = kmeans.fit(scaledDataFeat)\n",
        "\n",
        "transformed = model.transform(scaledDataFeat)"
      ]
    },
    {
      "cell_type": "code",
      "execution_count": null,
      "metadata": {
        "id": "aAwfzY1qo2UU",
        "colab": {
          "base_uri": "https://localhost:8080/"
        },
        "outputId": "6c0f349a-10ee-4b36-9c3e-e761d2141a71"
      },
      "outputs": [
        {
          "output_type": "execute_result",
          "data": {
            "text/plain": [
              "[array([ 0.77135286, -0.30271913, -0.97373623,  2.50401907, -0.90874595,\n",
              "         2.57694727, -0.90252377]),\n",
              " array([-0.1260699 ,  0.80974245,  0.45225271, -0.20277887,  0.60169935,\n",
              "        -0.23547094, -0.45106671]),\n",
              " array([ 0.29460533,  0.57171887,  1.40141509, -0.76640103,  1.6905917 ,\n",
              "        -0.73575465, -0.62413649]),\n",
              " array([ 0.0878572 ,  0.11391611,  2.02221119, -0.69757642, -1.37490865,\n",
              "        -0.61720215, -0.03324563]),\n",
              " array([-0.09037141, -0.88606843,  0.71651179, -0.56377091,  0.92901997,\n",
              "        -0.55705361,  1.1431109 ]),\n",
              " array([ 0.0607432 , -1.03819531, -1.06022215, -0.61295997, -0.89406652,\n",
              "        -0.61960322,  1.18807885]),\n",
              " array([ 0.51828925, -0.05742495, -0.88465573,  1.04437686, -0.81512175,\n",
              "         1.06807708, -0.76475973]),\n",
              " array([-0.95376494, -0.94894335,  0.50430905,  0.50899523,  0.61425607,\n",
              "         0.49642146,  1.25624898]),\n",
              " array([ 1.51917253,  0.2951809 , -0.89384847, -0.37482274, -0.7532293 ,\n",
              "        -0.3649356 , -0.92231313]),\n",
              " array([-1.31135792, -1.10914544,  0.46168459,  2.11909824,  0.54277383,\n",
              "         2.08379639,  1.30927802]),\n",
              " array([-0.3703907 , -0.0698955 , -0.97119752, -0.45922787, -0.85562219,\n",
              "        -0.47041811, -0.33729617]),\n",
              " array([-0.20255125,  1.37562019, -1.06836034, -0.49973806, -0.96974832,\n",
              "        -0.5264574 , -0.62290334])]"
            ]
          },
          "metadata": {},
          "execution_count": 51
        }
      ],
      "source": [
        "centers = model.clusterCenters()\n",
        "centers"
      ]
    },
    {
      "cell_type": "markdown",
      "metadata": {
        "id": "E9hVJj9to2UU"
      },
      "source": [
        "`It is difficult to compare the cluster centers by just looking at these numbers. So we will use plots in the next step to visualize them.`"
      ]
    },
    {
      "cell_type": "markdown",
      "metadata": {
        "id": "xphK-Ukbo2UU"
      },
      "source": [
        "Create parallel plots of clusters and analysis. A parallel coordinates plot is a great way to visualize multi-dimensional data. Each line plots the centroid of a cluster, and all of the features are plotted together. Recall that the feature values were scaled to have mean = 0 and standard deviation = 1. So the values on the y-axis of these parallel coordinates plots show the number of standard deviations from the mean. For example, +1 means one standard deviation higher than the mean of all samples, and -1 means one standard deviation lower than the mean of all samples.\n",
        "\n",
        "We'll create the plots with matplotlib using a Pandas DataFrame each row contains the cluster center coordinates and cluster label. (Matplotlib can plot Pandas DataFrames, but not Spark DataFrames.) Let's use the pd_centers() function."
      ]
    },
    {
      "cell_type": "code",
      "execution_count": null,
      "metadata": {
        "id": "X1YERWbho2UU",
        "colab": {
          "base_uri": "https://localhost:8080/",
          "height": 270
        },
        "outputId": "7ebe327c-2f75-456d-cf1a-ba1a2a67c9ee"
      },
      "outputs": [
        {
          "output_type": "execute_result",
          "data": {
            "text/plain": [
              "   air_pressure  air_temp  avg_wind_direction  avg_wind_speed  \\\n",
              "0      0.771353 -0.302719           -0.973736        2.504019   \n",
              "1     -0.126070  0.809742            0.452253       -0.202779   \n",
              "2      0.294605  0.571719            1.401415       -0.766401   \n",
              "3      0.087857  0.113916            2.022211       -0.697576   \n",
              "4     -0.090371 -0.886068            0.716512       -0.563771   \n",
              "\n",
              "   max_wind_direction  max_wind_speed  relative_humidity  prediction  \n",
              "0           -0.908746        2.576947          -0.902524           0  \n",
              "1            0.601699       -0.235471          -0.451067           1  \n",
              "2            1.690592       -0.735755          -0.624136           2  \n",
              "3           -1.374909       -0.617202          -0.033246           3  \n",
              "4            0.929020       -0.557054           1.143111           4  "
            ],
            "text/html": [
              "\n",
              "  <div id=\"df-956bb84a-ca63-4fc8-aa95-ddb5ce936a77\">\n",
              "    <div class=\"colab-df-container\">\n",
              "      <div>\n",
              "<style scoped>\n",
              "    .dataframe tbody tr th:only-of-type {\n",
              "        vertical-align: middle;\n",
              "    }\n",
              "\n",
              "    .dataframe tbody tr th {\n",
              "        vertical-align: top;\n",
              "    }\n",
              "\n",
              "    .dataframe thead th {\n",
              "        text-align: right;\n",
              "    }\n",
              "</style>\n",
              "<table border=\"1\" class=\"dataframe\">\n",
              "  <thead>\n",
              "    <tr style=\"text-align: right;\">\n",
              "      <th></th>\n",
              "      <th>air_pressure</th>\n",
              "      <th>air_temp</th>\n",
              "      <th>avg_wind_direction</th>\n",
              "      <th>avg_wind_speed</th>\n",
              "      <th>max_wind_direction</th>\n",
              "      <th>max_wind_speed</th>\n",
              "      <th>relative_humidity</th>\n",
              "      <th>prediction</th>\n",
              "    </tr>\n",
              "  </thead>\n",
              "  <tbody>\n",
              "    <tr>\n",
              "      <th>0</th>\n",
              "      <td>0.771353</td>\n",
              "      <td>-0.302719</td>\n",
              "      <td>-0.973736</td>\n",
              "      <td>2.504019</td>\n",
              "      <td>-0.908746</td>\n",
              "      <td>2.576947</td>\n",
              "      <td>-0.902524</td>\n",
              "      <td>0</td>\n",
              "    </tr>\n",
              "    <tr>\n",
              "      <th>1</th>\n",
              "      <td>-0.126070</td>\n",
              "      <td>0.809742</td>\n",
              "      <td>0.452253</td>\n",
              "      <td>-0.202779</td>\n",
              "      <td>0.601699</td>\n",
              "      <td>-0.235471</td>\n",
              "      <td>-0.451067</td>\n",
              "      <td>1</td>\n",
              "    </tr>\n",
              "    <tr>\n",
              "      <th>2</th>\n",
              "      <td>0.294605</td>\n",
              "      <td>0.571719</td>\n",
              "      <td>1.401415</td>\n",
              "      <td>-0.766401</td>\n",
              "      <td>1.690592</td>\n",
              "      <td>-0.735755</td>\n",
              "      <td>-0.624136</td>\n",
              "      <td>2</td>\n",
              "    </tr>\n",
              "    <tr>\n",
              "      <th>3</th>\n",
              "      <td>0.087857</td>\n",
              "      <td>0.113916</td>\n",
              "      <td>2.022211</td>\n",
              "      <td>-0.697576</td>\n",
              "      <td>-1.374909</td>\n",
              "      <td>-0.617202</td>\n",
              "      <td>-0.033246</td>\n",
              "      <td>3</td>\n",
              "    </tr>\n",
              "    <tr>\n",
              "      <th>4</th>\n",
              "      <td>-0.090371</td>\n",
              "      <td>-0.886068</td>\n",
              "      <td>0.716512</td>\n",
              "      <td>-0.563771</td>\n",
              "      <td>0.929020</td>\n",
              "      <td>-0.557054</td>\n",
              "      <td>1.143111</td>\n",
              "      <td>4</td>\n",
              "    </tr>\n",
              "  </tbody>\n",
              "</table>\n",
              "</div>\n",
              "      <button class=\"colab-df-convert\" onclick=\"convertToInteractive('df-956bb84a-ca63-4fc8-aa95-ddb5ce936a77')\"\n",
              "              title=\"Convert this dataframe to an interactive table.\"\n",
              "              style=\"display:none;\">\n",
              "        \n",
              "  <svg xmlns=\"http://www.w3.org/2000/svg\" height=\"24px\"viewBox=\"0 0 24 24\"\n",
              "       width=\"24px\">\n",
              "    <path d=\"M0 0h24v24H0V0z\" fill=\"none\"/>\n",
              "    <path d=\"M18.56 5.44l.94 2.06.94-2.06 2.06-.94-2.06-.94-.94-2.06-.94 2.06-2.06.94zm-11 1L8.5 8.5l.94-2.06 2.06-.94-2.06-.94L8.5 2.5l-.94 2.06-2.06.94zm10 10l.94 2.06.94-2.06 2.06-.94-2.06-.94-.94-2.06-.94 2.06-2.06.94z\"/><path d=\"M17.41 7.96l-1.37-1.37c-.4-.4-.92-.59-1.43-.59-.52 0-1.04.2-1.43.59L10.3 9.45l-7.72 7.72c-.78.78-.78 2.05 0 2.83L4 21.41c.39.39.9.59 1.41.59.51 0 1.02-.2 1.41-.59l7.78-7.78 2.81-2.81c.8-.78.8-2.07 0-2.86zM5.41 20L4 18.59l7.72-7.72 1.47 1.35L5.41 20z\"/>\n",
              "  </svg>\n",
              "      </button>\n",
              "      \n",
              "  <style>\n",
              "    .colab-df-container {\n",
              "      display:flex;\n",
              "      flex-wrap:wrap;\n",
              "      gap: 12px;\n",
              "    }\n",
              "\n",
              "    .colab-df-convert {\n",
              "      background-color: #E8F0FE;\n",
              "      border: none;\n",
              "      border-radius: 50%;\n",
              "      cursor: pointer;\n",
              "      display: none;\n",
              "      fill: #1967D2;\n",
              "      height: 32px;\n",
              "      padding: 0 0 0 0;\n",
              "      width: 32px;\n",
              "    }\n",
              "\n",
              "    .colab-df-convert:hover {\n",
              "      background-color: #E2EBFA;\n",
              "      box-shadow: 0px 1px 2px rgba(60, 64, 67, 0.3), 0px 1px 3px 1px rgba(60, 64, 67, 0.15);\n",
              "      fill: #174EA6;\n",
              "    }\n",
              "\n",
              "    [theme=dark] .colab-df-convert {\n",
              "      background-color: #3B4455;\n",
              "      fill: #D2E3FC;\n",
              "    }\n",
              "\n",
              "    [theme=dark] .colab-df-convert:hover {\n",
              "      background-color: #434B5C;\n",
              "      box-shadow: 0px 1px 3px 1px rgba(0, 0, 0, 0.15);\n",
              "      filter: drop-shadow(0px 1px 2px rgba(0, 0, 0, 0.3));\n",
              "      fill: #FFFFFF;\n",
              "    }\n",
              "  </style>\n",
              "\n",
              "      <script>\n",
              "        const buttonEl =\n",
              "          document.querySelector('#df-956bb84a-ca63-4fc8-aa95-ddb5ce936a77 button.colab-df-convert');\n",
              "        buttonEl.style.display =\n",
              "          google.colab.kernel.accessAllowed ? 'block' : 'none';\n",
              "\n",
              "        async function convertToInteractive(key) {\n",
              "          const element = document.querySelector('#df-956bb84a-ca63-4fc8-aa95-ddb5ce936a77');\n",
              "          const dataTable =\n",
              "            await google.colab.kernel.invokeFunction('convertToInteractive',\n",
              "                                                     [key], {});\n",
              "          if (!dataTable) return;\n",
              "\n",
              "          const docLinkHtml = 'Like what you see? Visit the ' +\n",
              "            '<a target=\"_blank\" href=https://colab.research.google.com/notebooks/data_table.ipynb>data table notebook</a>'\n",
              "            + ' to learn more about interactive tables.';\n",
              "          element.innerHTML = '';\n",
              "          dataTable['output_type'] = 'display_data';\n",
              "          await google.colab.output.renderOutput(dataTable, element);\n",
              "          const docLink = document.createElement('div');\n",
              "          docLink.innerHTML = docLinkHtml;\n",
              "          element.appendChild(docLink);\n",
              "        }\n",
              "      </script>\n",
              "    </div>\n",
              "  </div>\n",
              "  "
            ]
          },
          "metadata": {},
          "execution_count": 52
        }
      ],
      "source": [
        "P = pd_centers(featuresUsed,centers)\n",
        "P.head()"
      ]
    }
  ],
  "metadata": {
    "colab": {
      "provenance": []
    },
    "gpuClass": "standard",
    "kernelspec": {
      "display_name": "Python 3",
      "language": "python",
      "name": "python3"
    },
    "language_info": {
      "codemirror_mode": {
        "name": "ipython",
        "version": 3
      },
      "file_extension": ".py",
      "mimetype": "text/x-python",
      "name": "python",
      "nbconvert_exporter": "python",
      "pygments_lexer": "ipython3",
      "version": "3.6.4"
    }
  },
  "nbformat": 4,
  "nbformat_minor": 0
}